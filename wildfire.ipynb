{
 "cells": [
  {
   "cell_type": "code",
   "execution_count": 1,
   "id": "b1e34a6e",
   "metadata": {
    "vscode": {
     "languageId": "r"
    }
   },
   "outputs": [
    {
     "data": {
      "text/html": [
       "<table class=\"dataframe\">\n",
       "<caption>A spec_tbl_df: 6 × 35</caption>\n",
       "<thead>\n",
       "\t<tr><th></th><th scope=col>year</th><th scope=col>fire_number</th><th scope=col>current_size</th><th scope=col>size_class</th><th scope=col>latitude</th><th scope=col>longitude</th><th scope=col>fire_origin</th><th scope=col>general_cause</th><th scope=col>responsible_group</th><th scope=col>activity_class</th><th scope=col>⋯</th><th scope=col>ia_arrival_at_fire_date</th><th scope=col>ia_access</th><th scope=col>fire_fighting_start_date</th><th scope=col>fire_fighting_start_size</th><th scope=col>bucketing_on_fire</th><th scope=col>first_bh_date</th><th scope=col>first_bh_size</th><th scope=col>first_uc_date</th><th scope=col>first_uc_size</th><th scope=col>first_ex_size_perimeter</th></tr>\n",
       "\t<tr><th></th><th scope=col>&lt;dbl&gt;</th><th scope=col>&lt;chr&gt;</th><th scope=col>&lt;dbl&gt;</th><th scope=col>&lt;chr&gt;</th><th scope=col>&lt;dbl&gt;</th><th scope=col>&lt;dbl&gt;</th><th scope=col>&lt;chr&gt;</th><th scope=col>&lt;chr&gt;</th><th scope=col>&lt;chr&gt;</th><th scope=col>&lt;chr&gt;</th><th scope=col>⋯</th><th scope=col>&lt;dttm&gt;</th><th scope=col>&lt;chr&gt;</th><th scope=col>&lt;dttm&gt;</th><th scope=col>&lt;dbl&gt;</th><th scope=col>&lt;chr&gt;</th><th scope=col>&lt;dttm&gt;</th><th scope=col>&lt;dbl&gt;</th><th scope=col>&lt;dttm&gt;</th><th scope=col>&lt;dbl&gt;</th><th scope=col>&lt;dbl&gt;</th></tr>\n",
       "</thead>\n",
       "<tbody>\n",
       "\t<tr><th scope=row>1</th><td>2006</td><td>PWF001</td><td>0.10</td><td>A</td><td>56.25</td><td>-117.18</td><td>Land Owner     </td><td>Resident      </td><td>Resident </td><td>Grass         </td><td>⋯</td><td>NA</td><td>Unknown</td><td>NA</td><td>0.02</td><td>Unknown</td><td>2006-04-02 22:00:00</td><td>0.01</td><td>2006-04-02 22:00:00</td><td>0.01</td><td>0.10</td></tr>\n",
       "\t<tr><th scope=row>2</th><td>2006</td><td>EWF002</td><td>0.20</td><td>B</td><td>53.61</td><td>-115.92</td><td>Fire Department</td><td>Incendiary    </td><td>Others   </td><td>Lighting Fires</td><td>⋯</td><td>NA</td><td>Unknown</td><td>NA</td><td>0.02</td><td>Unknown</td><td>2006-04-03 13:20:00</td><td>0.20</td><td>2006-04-03 13:20:00</td><td>0.20</td><td>0.20</td></tr>\n",
       "\t<tr><th scope=row>3</th><td>2006</td><td>EWF001</td><td>0.50</td><td>B</td><td>53.61</td><td>-115.59</td><td>Fire Department</td><td>Incendiary    </td><td>Others   </td><td>Lighting Fires</td><td>⋯</td><td>NA</td><td>Unknown</td><td>NA</td><td>0.02</td><td>Unknown</td><td>2006-04-03 13:23:00</td><td>0.50</td><td>2006-04-03 13:23:00</td><td>0.50</td><td>0.50</td></tr>\n",
       "\t<tr><th scope=row>4</th><td>2006</td><td>EWF003</td><td>0.01</td><td>A</td><td>53.61</td><td>-115.61</td><td>Industry       </td><td>Incendiary    </td><td>Others   </td><td>Lighting Fires</td><td>⋯</td><td>NA</td><td>Unknown</td><td>NA</td><td>0.02</td><td>Unknown</td><td>2006-04-03 14:08:00</td><td>0.01</td><td>2006-04-03 14:08:00</td><td>0.01</td><td>0.01</td></tr>\n",
       "\t<tr><th scope=row>5</th><td>2006</td><td>PWF002</td><td>0.10</td><td>A</td><td>56.25</td><td>-117.05</td><td>Fire Department</td><td>Other Industry</td><td>Employees</td><td>Refuse        </td><td>⋯</td><td>NA</td><td>Unknown</td><td>NA</td><td>0.02</td><td>Unknown</td><td>2006-04-03 19:57:00</td><td>0.10</td><td>2006-04-03 20:19:00</td><td>0.10</td><td>0.10</td></tr>\n",
       "\t<tr><th scope=row>6</th><td>2006</td><td>CWF001</td><td>0.20</td><td>B</td><td>51.15</td><td>-115.03</td><td>Fire Department</td><td>Resident      </td><td>Resident </td><td>Unclassified  </td><td>⋯</td><td>NA</td><td>Unknown</td><td>NA</td><td>0.02</td><td>Unknown</td><td>2006-04-02 16:00:01</td><td>0.20</td><td>2006-04-02 16:00:01</td><td>0.20</td><td>0.20</td></tr>\n",
       "</tbody>\n",
       "</table>\n"
      ],
      "text/latex": [
       "A spec\\_tbl\\_df: 6 × 35\n",
       "\\begin{tabular}{r|lllllllllllllllllllll}\n",
       "  & year & fire\\_number & current\\_size & size\\_class & latitude & longitude & fire\\_origin & general\\_cause & responsible\\_group & activity\\_class & ⋯ & ia\\_arrival\\_at\\_fire\\_date & ia\\_access & fire\\_fighting\\_start\\_date & fire\\_fighting\\_start\\_size & bucketing\\_on\\_fire & first\\_bh\\_date & first\\_bh\\_size & first\\_uc\\_date & first\\_uc\\_size & first\\_ex\\_size\\_perimeter\\\\\n",
       "  & <dbl> & <chr> & <dbl> & <chr> & <dbl> & <dbl> & <chr> & <chr> & <chr> & <chr> & ⋯ & <dttm> & <chr> & <dttm> & <dbl> & <chr> & <dttm> & <dbl> & <dttm> & <dbl> & <dbl>\\\\\n",
       "\\hline\n",
       "\t1 & 2006 & PWF001 & 0.10 & A & 56.25 & -117.18 & Land Owner      & Resident       & Resident  & Grass          & ⋯ & NA & Unknown & NA & 0.02 & Unknown & 2006-04-02 22:00:00 & 0.01 & 2006-04-02 22:00:00 & 0.01 & 0.10\\\\\n",
       "\t2 & 2006 & EWF002 & 0.20 & B & 53.61 & -115.92 & Fire Department & Incendiary     & Others    & Lighting Fires & ⋯ & NA & Unknown & NA & 0.02 & Unknown & 2006-04-03 13:20:00 & 0.20 & 2006-04-03 13:20:00 & 0.20 & 0.20\\\\\n",
       "\t3 & 2006 & EWF001 & 0.50 & B & 53.61 & -115.59 & Fire Department & Incendiary     & Others    & Lighting Fires & ⋯ & NA & Unknown & NA & 0.02 & Unknown & 2006-04-03 13:23:00 & 0.50 & 2006-04-03 13:23:00 & 0.50 & 0.50\\\\\n",
       "\t4 & 2006 & EWF003 & 0.01 & A & 53.61 & -115.61 & Industry        & Incendiary     & Others    & Lighting Fires & ⋯ & NA & Unknown & NA & 0.02 & Unknown & 2006-04-03 14:08:00 & 0.01 & 2006-04-03 14:08:00 & 0.01 & 0.01\\\\\n",
       "\t5 & 2006 & PWF002 & 0.10 & A & 56.25 & -117.05 & Fire Department & Other Industry & Employees & Refuse         & ⋯ & NA & Unknown & NA & 0.02 & Unknown & 2006-04-03 19:57:00 & 0.10 & 2006-04-03 20:19:00 & 0.10 & 0.10\\\\\n",
       "\t6 & 2006 & CWF001 & 0.20 & B & 51.15 & -115.03 & Fire Department & Resident       & Resident  & Unclassified   & ⋯ & NA & Unknown & NA & 0.02 & Unknown & 2006-04-02 16:00:01 & 0.20 & 2006-04-02 16:00:01 & 0.20 & 0.20\\\\\n",
       "\\end{tabular}\n"
      ],
      "text/markdown": [
       "\n",
       "A spec_tbl_df: 6 × 35\n",
       "\n",
       "| <!--/--> | year &lt;dbl&gt; | fire_number &lt;chr&gt; | current_size &lt;dbl&gt; | size_class &lt;chr&gt; | latitude &lt;dbl&gt; | longitude &lt;dbl&gt; | fire_origin &lt;chr&gt; | general_cause &lt;chr&gt; | responsible_group &lt;chr&gt; | activity_class &lt;chr&gt; | ⋯ ⋯ | ia_arrival_at_fire_date &lt;dttm&gt; | ia_access &lt;chr&gt; | fire_fighting_start_date &lt;dttm&gt; | fire_fighting_start_size &lt;dbl&gt; | bucketing_on_fire &lt;chr&gt; | first_bh_date &lt;dttm&gt; | first_bh_size &lt;dbl&gt; | first_uc_date &lt;dttm&gt; | first_uc_size &lt;dbl&gt; | first_ex_size_perimeter &lt;dbl&gt; |\n",
       "|---|---|---|---|---|---|---|---|---|---|---|---|---|---|---|---|---|---|---|---|---|---|\n",
       "| 1 | 2006 | PWF001 | 0.10 | A | 56.25 | -117.18 | Land Owner      | Resident       | Resident  | Grass          | ⋯ | NA | Unknown | NA | 0.02 | Unknown | 2006-04-02 22:00:00 | 0.01 | 2006-04-02 22:00:00 | 0.01 | 0.10 |\n",
       "| 2 | 2006 | EWF002 | 0.20 | B | 53.61 | -115.92 | Fire Department | Incendiary     | Others    | Lighting Fires | ⋯ | NA | Unknown | NA | 0.02 | Unknown | 2006-04-03 13:20:00 | 0.20 | 2006-04-03 13:20:00 | 0.20 | 0.20 |\n",
       "| 3 | 2006 | EWF001 | 0.50 | B | 53.61 | -115.59 | Fire Department | Incendiary     | Others    | Lighting Fires | ⋯ | NA | Unknown | NA | 0.02 | Unknown | 2006-04-03 13:23:00 | 0.50 | 2006-04-03 13:23:00 | 0.50 | 0.50 |\n",
       "| 4 | 2006 | EWF003 | 0.01 | A | 53.61 | -115.61 | Industry        | Incendiary     | Others    | Lighting Fires | ⋯ | NA | Unknown | NA | 0.02 | Unknown | 2006-04-03 14:08:00 | 0.01 | 2006-04-03 14:08:00 | 0.01 | 0.01 |\n",
       "| 5 | 2006 | PWF002 | 0.10 | A | 56.25 | -117.05 | Fire Department | Other Industry | Employees | Refuse         | ⋯ | NA | Unknown | NA | 0.02 | Unknown | 2006-04-03 19:57:00 | 0.10 | 2006-04-03 20:19:00 | 0.10 | 0.10 |\n",
       "| 6 | 2006 | CWF001 | 0.20 | B | 51.15 | -115.03 | Fire Department | Resident       | Resident  | Unclassified   | ⋯ | NA | Unknown | NA | 0.02 | Unknown | 2006-04-02 16:00:01 | 0.20 | 2006-04-02 16:00:01 | 0.20 | 0.20 |\n",
       "\n"
      ],
      "text/plain": [
       "  year fire_number current_size size_class latitude longitude fire_origin    \n",
       "1 2006 PWF001      0.10         A          56.25    -117.18   Land Owner     \n",
       "2 2006 EWF002      0.20         B          53.61    -115.92   Fire Department\n",
       "3 2006 EWF001      0.50         B          53.61    -115.59   Fire Department\n",
       "4 2006 EWF003      0.01         A          53.61    -115.61   Industry       \n",
       "5 2006 PWF002      0.10         A          56.25    -117.05   Fire Department\n",
       "6 2006 CWF001      0.20         B          51.15    -115.03   Fire Department\n",
       "  general_cause  responsible_group activity_class ⋯ ia_arrival_at_fire_date\n",
       "1 Resident       Resident          Grass          ⋯ <NA>                   \n",
       "2 Incendiary     Others            Lighting Fires ⋯ <NA>                   \n",
       "3 Incendiary     Others            Lighting Fires ⋯ <NA>                   \n",
       "4 Incendiary     Others            Lighting Fires ⋯ <NA>                   \n",
       "5 Other Industry Employees         Refuse         ⋯ <NA>                   \n",
       "6 Resident       Resident          Unclassified   ⋯ <NA>                   \n",
       "  ia_access fire_fighting_start_date fire_fighting_start_size bucketing_on_fire\n",
       "1 Unknown   <NA>                     0.02                     Unknown          \n",
       "2 Unknown   <NA>                     0.02                     Unknown          \n",
       "3 Unknown   <NA>                     0.02                     Unknown          \n",
       "4 Unknown   <NA>                     0.02                     Unknown          \n",
       "5 Unknown   <NA>                     0.02                     Unknown          \n",
       "6 Unknown   <NA>                     0.02                     Unknown          \n",
       "  first_bh_date       first_bh_size first_uc_date       first_uc_size\n",
       "1 2006-04-02 22:00:00 0.01          2006-04-02 22:00:00 0.01         \n",
       "2 2006-04-03 13:20:00 0.20          2006-04-03 13:20:00 0.20         \n",
       "3 2006-04-03 13:23:00 0.50          2006-04-03 13:23:00 0.50         \n",
       "4 2006-04-03 14:08:00 0.01          2006-04-03 14:08:00 0.01         \n",
       "5 2006-04-03 19:57:00 0.10          2006-04-03 20:19:00 0.10         \n",
       "6 2006-04-02 16:00:01 0.20          2006-04-02 16:00:01 0.20         \n",
       "  first_ex_size_perimeter\n",
       "1 0.10                   \n",
       "2 0.20                   \n",
       "3 0.50                   \n",
       "4 0.01                   \n",
       "5 0.10                   \n",
       "6 0.20                   "
      ]
     },
     "metadata": {},
     "output_type": "display_data"
    }
   ],
   "source": [
    "library(diversedata)\n",
    "data(\"wildfire\")\n",
    "head(wildfire)"
   ]
  }
 ],
 "metadata": {
  "kernelspec": {
   "display_name": "R",
   "language": "R",
   "name": "ir"
  },
  "language_info": {
   "codemirror_mode": "r",
   "file_extension": ".r",
   "mimetype": "text/x-r-source",
   "name": "R",
   "pygments_lexer": "r",
   "version": "4.5.1"
  }
 },
 "nbformat": 4,
 "nbformat_minor": 5
}

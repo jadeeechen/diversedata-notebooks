{
 "cells": [
  {
   "cell_type": "code",
   "execution_count": 1,
   "id": "b1e34a6e",
   "metadata": {
    "vscode": {
     "languageId": "r"
    }
   },
   "outputs": [
    {
     "data": {
      "text/html": [
       "<table class=\"dataframe\">\n",
       "<caption>A spec_tbl_df: 6 × 21</caption>\n",
       "<thead>\n",
       "\t<tr><th></th><th scope=col>subject_age</th><th scope=col>subject_education</th><th scope=col>subject_sex</th><th scope=col>subject_ethnicity</th><th scope=col>subject_income_category</th><th scope=col>subject_employment_status</th><th scope=col>same_sex_couple</th><th scope=col>married</th><th scope=col>sex_frequency</th><th scope=col>flirts_with_partner</th><th scope=col>⋯</th><th scope=col>relationship_duration</th><th scope=col>children</th><th scope=col>rel_change_during_pandemic</th><th scope=col>inc_change_during_pandemic</th><th scope=col>subject_had_covid</th><th scope=col>partner_had_covid</th><th scope=col>subject_vaccinated</th><th scope=col>partner_vaccinated</th><th scope=col>agree_covid_approach</th><th scope=col>relationship_quality</th></tr>\n",
       "\t<tr><th></th><th scope=col>&lt;dbl&gt;</th><th scope=col>&lt;chr&gt;</th><th scope=col>&lt;chr&gt;</th><th scope=col>&lt;chr&gt;</th><th scope=col>&lt;chr&gt;</th><th scope=col>&lt;chr&gt;</th><th scope=col>&lt;chr&gt;</th><th scope=col>&lt;chr&gt;</th><th scope=col>&lt;chr&gt;</th><th scope=col>&lt;chr&gt;</th><th scope=col>⋯</th><th scope=col>&lt;dbl&gt;</th><th scope=col>&lt;dbl&gt;</th><th scope=col>&lt;chr&gt;</th><th scope=col>&lt;chr&gt;</th><th scope=col>&lt;chr&gt;</th><th scope=col>&lt;chr&gt;</th><th scope=col>&lt;chr&gt;</th><th scope=col>&lt;chr&gt;</th><th scope=col>&lt;chr&gt;</th><th scope=col>&lt;chr&gt;</th></tr>\n",
       "</thead>\n",
       "<tbody>\n",
       "\t<tr><th scope=row>1</th><td>53</td><td>high_school_grad</td><td>female</td><td>white</td><td>35k_40k</td><td>working_paid_employee</td><td>no</td><td>not_married</td><td>once_or_twice_a_week</td><td>a_few_times_a_week    </td><td>⋯</td><td> 1.50000</td><td>2</td><td>better_than_before</td><td>no_change</td><td>no</td><td>yes</td><td>not_vaccinated              </td><td>not_vaccinated              </td><td>completely_agree</td><td>excellent</td></tr>\n",
       "\t<tr><th scope=row>2</th><td>72</td><td>some_college    </td><td>female</td><td>white</td><td>75k_85k</td><td>working_paid_employee</td><td>no</td><td>married    </td><td>once_a_month_or_less</td><td>never                 </td><td>⋯</td><td>57.41667</td><td>1</td><td>no_change         </td><td>worse    </td><td>no</td><td>no </td><td>fully_vaccinated_and_booster</td><td>fully_vaccinated_and_booster</td><td>mostly_agree    </td><td>good     </td></tr>\n",
       "\t<tr><th scope=row>3</th><td>43</td><td>associate_degree</td><td>male  </td><td>white</td><td>75k_85k</td><td>working_paid_employee</td><td>no</td><td>married    </td><td>once_or_twice_a_week</td><td>a_few_times_a_week    </td><td>⋯</td><td>22.33333</td><td>5</td><td>no_change         </td><td>worse    </td><td>no</td><td>no </td><td>fully_vaccinated_and_booster</td><td>fully_vaccinated_and_booster</td><td>completely_agree</td><td>excellent</td></tr>\n",
       "\t<tr><th scope=row>4</th><td>64</td><td>some_college    </td><td>male  </td><td>white</td><td>75k_85k</td><td>working_paid_employee</td><td>no</td><td>married    </td><td>once_or_twice_a_week</td><td>1_to_3_times_a_month  </td><td>⋯</td><td>28.25000</td><td>2</td><td>no_change         </td><td>no_change</td><td>no</td><td>no </td><td>fully_vaccinated_and_booster</td><td>fully_vaccinated_and_booster</td><td>completely_agree</td><td>good     </td></tr>\n",
       "\t<tr><th scope=row>5</th><td>60</td><td>high_school_grad</td><td>female</td><td>black</td><td>75k_85k</td><td>working_paid_employee</td><td>no</td><td>married    </td><td>once_or_twice_a_week</td><td>a_few_times_a_week    </td><td>⋯</td><td>38.91667</td><td>3</td><td>better_than_before</td><td>no_change</td><td>no</td><td>no </td><td>not_vaccinated              </td><td>partially_vaccinated        </td><td>completely_agree</td><td>excellent</td></tr>\n",
       "\t<tr><th scope=row>6</th><td>78</td><td>high_school_grad</td><td>female</td><td>white</td><td>50k_60k</td><td>not_working_retired  </td><td>no</td><td>married    </td><td>once_a_month_or_less</td><td>less_than_once_a_month</td><td>⋯</td><td>28.41667</td><td>2</td><td>no_change         </td><td>no_change</td><td>no</td><td>no </td><td>fully_vaccinated_and_booster</td><td>fully_vaccinated_and_booster</td><td>completely_agree</td><td>excellent</td></tr>\n",
       "</tbody>\n",
       "</table>\n"
      ],
      "text/latex": [
       "A spec\\_tbl\\_df: 6 × 21\n",
       "\\begin{tabular}{r|lllllllllllllllllllll}\n",
       "  & subject\\_age & subject\\_education & subject\\_sex & subject\\_ethnicity & subject\\_income\\_category & subject\\_employment\\_status & same\\_sex\\_couple & married & sex\\_frequency & flirts\\_with\\_partner & ⋯ & relationship\\_duration & children & rel\\_change\\_during\\_pandemic & inc\\_change\\_during\\_pandemic & subject\\_had\\_covid & partner\\_had\\_covid & subject\\_vaccinated & partner\\_vaccinated & agree\\_covid\\_approach & relationship\\_quality\\\\\n",
       "  & <dbl> & <chr> & <chr> & <chr> & <chr> & <chr> & <chr> & <chr> & <chr> & <chr> & ⋯ & <dbl> & <dbl> & <chr> & <chr> & <chr> & <chr> & <chr> & <chr> & <chr> & <chr>\\\\\n",
       "\\hline\n",
       "\t1 & 53 & high\\_school\\_grad & female & white & 35k\\_40k & working\\_paid\\_employee & no & not\\_married & once\\_or\\_twice\\_a\\_week & a\\_few\\_times\\_a\\_week     & ⋯ &  1.50000 & 2 & better\\_than\\_before & no\\_change & no & yes & not\\_vaccinated               & not\\_vaccinated               & completely\\_agree & excellent\\\\\n",
       "\t2 & 72 & some\\_college     & female & white & 75k\\_85k & working\\_paid\\_employee & no & married     & once\\_a\\_month\\_or\\_less & never                  & ⋯ & 57.41667 & 1 & no\\_change          & worse     & no & no  & fully\\_vaccinated\\_and\\_booster & fully\\_vaccinated\\_and\\_booster & mostly\\_agree     & good     \\\\\n",
       "\t3 & 43 & associate\\_degree & male   & white & 75k\\_85k & working\\_paid\\_employee & no & married     & once\\_or\\_twice\\_a\\_week & a\\_few\\_times\\_a\\_week     & ⋯ & 22.33333 & 5 & no\\_change          & worse     & no & no  & fully\\_vaccinated\\_and\\_booster & fully\\_vaccinated\\_and\\_booster & completely\\_agree & excellent\\\\\n",
       "\t4 & 64 & some\\_college     & male   & white & 75k\\_85k & working\\_paid\\_employee & no & married     & once\\_or\\_twice\\_a\\_week & 1\\_to\\_3\\_times\\_a\\_month   & ⋯ & 28.25000 & 2 & no\\_change          & no\\_change & no & no  & fully\\_vaccinated\\_and\\_booster & fully\\_vaccinated\\_and\\_booster & completely\\_agree & good     \\\\\n",
       "\t5 & 60 & high\\_school\\_grad & female & black & 75k\\_85k & working\\_paid\\_employee & no & married     & once\\_or\\_twice\\_a\\_week & a\\_few\\_times\\_a\\_week     & ⋯ & 38.91667 & 3 & better\\_than\\_before & no\\_change & no & no  & not\\_vaccinated               & partially\\_vaccinated         & completely\\_agree & excellent\\\\\n",
       "\t6 & 78 & high\\_school\\_grad & female & white & 50k\\_60k & not\\_working\\_retired   & no & married     & once\\_a\\_month\\_or\\_less & less\\_than\\_once\\_a\\_month & ⋯ & 28.41667 & 2 & no\\_change          & no\\_change & no & no  & fully\\_vaccinated\\_and\\_booster & fully\\_vaccinated\\_and\\_booster & completely\\_agree & excellent\\\\\n",
       "\\end{tabular}\n"
      ],
      "text/markdown": [
       "\n",
       "A spec_tbl_df: 6 × 21\n",
       "\n",
       "| <!--/--> | subject_age &lt;dbl&gt; | subject_education &lt;chr&gt; | subject_sex &lt;chr&gt; | subject_ethnicity &lt;chr&gt; | subject_income_category &lt;chr&gt; | subject_employment_status &lt;chr&gt; | same_sex_couple &lt;chr&gt; | married &lt;chr&gt; | sex_frequency &lt;chr&gt; | flirts_with_partner &lt;chr&gt; | ⋯ ⋯ | relationship_duration &lt;dbl&gt; | children &lt;dbl&gt; | rel_change_during_pandemic &lt;chr&gt; | inc_change_during_pandemic &lt;chr&gt; | subject_had_covid &lt;chr&gt; | partner_had_covid &lt;chr&gt; | subject_vaccinated &lt;chr&gt; | partner_vaccinated &lt;chr&gt; | agree_covid_approach &lt;chr&gt; | relationship_quality &lt;chr&gt; |\n",
       "|---|---|---|---|---|---|---|---|---|---|---|---|---|---|---|---|---|---|---|---|---|---|\n",
       "| 1 | 53 | high_school_grad | female | white | 35k_40k | working_paid_employee | no | not_married | once_or_twice_a_week | a_few_times_a_week     | ⋯ |  1.50000 | 2 | better_than_before | no_change | no | yes | not_vaccinated               | not_vaccinated               | completely_agree | excellent |\n",
       "| 2 | 72 | some_college     | female | white | 75k_85k | working_paid_employee | no | married     | once_a_month_or_less | never                  | ⋯ | 57.41667 | 1 | no_change          | worse     | no | no  | fully_vaccinated_and_booster | fully_vaccinated_and_booster | mostly_agree     | good      |\n",
       "| 3 | 43 | associate_degree | male   | white | 75k_85k | working_paid_employee | no | married     | once_or_twice_a_week | a_few_times_a_week     | ⋯ | 22.33333 | 5 | no_change          | worse     | no | no  | fully_vaccinated_and_booster | fully_vaccinated_and_booster | completely_agree | excellent |\n",
       "| 4 | 64 | some_college     | male   | white | 75k_85k | working_paid_employee | no | married     | once_or_twice_a_week | 1_to_3_times_a_month   | ⋯ | 28.25000 | 2 | no_change          | no_change | no | no  | fully_vaccinated_and_booster | fully_vaccinated_and_booster | completely_agree | good      |\n",
       "| 5 | 60 | high_school_grad | female | black | 75k_85k | working_paid_employee | no | married     | once_or_twice_a_week | a_few_times_a_week     | ⋯ | 38.91667 | 3 | better_than_before | no_change | no | no  | not_vaccinated               | partially_vaccinated         | completely_agree | excellent |\n",
       "| 6 | 78 | high_school_grad | female | white | 50k_60k | not_working_retired   | no | married     | once_a_month_or_less | less_than_once_a_month | ⋯ | 28.41667 | 2 | no_change          | no_change | no | no  | fully_vaccinated_and_booster | fully_vaccinated_and_booster | completely_agree | excellent |\n",
       "\n"
      ],
      "text/plain": [
       "  subject_age subject_education subject_sex subject_ethnicity\n",
       "1 53          high_school_grad  female      white            \n",
       "2 72          some_college      female      white            \n",
       "3 43          associate_degree  male        white            \n",
       "4 64          some_college      male        white            \n",
       "5 60          high_school_grad  female      black            \n",
       "6 78          high_school_grad  female      white            \n",
       "  subject_income_category subject_employment_status same_sex_couple married    \n",
       "1 35k_40k                 working_paid_employee     no              not_married\n",
       "2 75k_85k                 working_paid_employee     no              married    \n",
       "3 75k_85k                 working_paid_employee     no              married    \n",
       "4 75k_85k                 working_paid_employee     no              married    \n",
       "5 75k_85k                 working_paid_employee     no              married    \n",
       "6 50k_60k                 not_working_retired       no              married    \n",
       "  sex_frequency        flirts_with_partner    ⋯ relationship_duration children\n",
       "1 once_or_twice_a_week a_few_times_a_week     ⋯  1.50000              2       \n",
       "2 once_a_month_or_less never                  ⋯ 57.41667              1       \n",
       "3 once_or_twice_a_week a_few_times_a_week     ⋯ 22.33333              5       \n",
       "4 once_or_twice_a_week 1_to_3_times_a_month   ⋯ 28.25000              2       \n",
       "5 once_or_twice_a_week a_few_times_a_week     ⋯ 38.91667              3       \n",
       "6 once_a_month_or_less less_than_once_a_month ⋯ 28.41667              2       \n",
       "  rel_change_during_pandemic inc_change_during_pandemic subject_had_covid\n",
       "1 better_than_before         no_change                  no               \n",
       "2 no_change                  worse                      no               \n",
       "3 no_change                  worse                      no               \n",
       "4 no_change                  no_change                  no               \n",
       "5 better_than_before         no_change                  no               \n",
       "6 no_change                  no_change                  no               \n",
       "  partner_had_covid subject_vaccinated           partner_vaccinated          \n",
       "1 yes               not_vaccinated               not_vaccinated              \n",
       "2 no                fully_vaccinated_and_booster fully_vaccinated_and_booster\n",
       "3 no                fully_vaccinated_and_booster fully_vaccinated_and_booster\n",
       "4 no                fully_vaccinated_and_booster fully_vaccinated_and_booster\n",
       "5 no                not_vaccinated               partially_vaccinated        \n",
       "6 no                fully_vaccinated_and_booster fully_vaccinated_and_booster\n",
       "  agree_covid_approach relationship_quality\n",
       "1 completely_agree     excellent           \n",
       "2 mostly_agree         good                \n",
       "3 completely_agree     excellent           \n",
       "4 completely_agree     good                \n",
       "5 completely_agree     excellent           \n",
       "6 completely_agree     excellent           "
      ]
     },
     "metadata": {},
     "output_type": "display_data"
    }
   ],
   "source": [
    "library(diversedata)\n",
    "data(\"hcmst\")\n",
    "head(hcmst)"
   ]
  }
 ],
 "metadata": {
  "kernelspec": {
   "display_name": "R",
   "language": "R",
   "name": "ir"
  },
  "language_info": {
   "codemirror_mode": "r",
   "file_extension": ".r",
   "mimetype": "text/x-r-source",
   "name": "R",
   "pygments_lexer": "r",
   "version": "4.5.1"
  }
 },
 "nbformat": 4,
 "nbformat_minor": 5
}

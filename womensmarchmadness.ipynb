{
 "cells": [
  {
   "cell_type": "code",
   "execution_count": 6,
   "id": "b1e34a6e",
   "metadata": {
    "vscode": {
     "languageId": "r"
    }
   },
   "outputs": [
    {
     "data": {
      "text/html": [
       "<table class=\"dataframe\">\n",
       "<caption>A spec_tbl_df: 6 × 20</caption>\n",
       "<thead>\n",
       "\t<tr><th></th><th scope=col>year</th><th scope=col>school</th><th scope=col>seed</th><th scope=col>conference</th><th scope=col>conf_wins</th><th scope=col>conf_losses</th><th scope=col>conf_wins_pct</th><th scope=col>conf_rank</th><th scope=col>division</th><th scope=col>reg_wins</th><th scope=col>reg_losses</th><th scope=col>reg_wins_pct</th><th scope=col>bid</th><th scope=col>first_game_at_home</th><th scope=col>tourney_wins</th><th scope=col>tourney_losses</th><th scope=col>tourney_finish</th><th scope=col>total_wins</th><th scope=col>total_losses</th><th scope=col>total_wins_pct</th></tr>\n",
       "\t<tr><th></th><th scope=col>&lt;dbl&gt;</th><th scope=col>&lt;chr&gt;</th><th scope=col>&lt;dbl&gt;</th><th scope=col>&lt;chr&gt;</th><th scope=col>&lt;dbl&gt;</th><th scope=col>&lt;dbl&gt;</th><th scope=col>&lt;dbl&gt;</th><th scope=col>&lt;dbl&gt;</th><th scope=col>&lt;chr&gt;</th><th scope=col>&lt;dbl&gt;</th><th scope=col>&lt;dbl&gt;</th><th scope=col>&lt;dbl&gt;</th><th scope=col>&lt;chr&gt;</th><th scope=col>&lt;chr&gt;</th><th scope=col>&lt;dbl&gt;</th><th scope=col>&lt;dbl&gt;</th><th scope=col>&lt;chr&gt;</th><th scope=col>&lt;dbl&gt;</th><th scope=col>&lt;dbl&gt;</th><th scope=col>&lt;dbl&gt;</th></tr>\n",
       "</thead>\n",
       "<tbody>\n",
       "\t<tr><th scope=row>1</th><td>1982</td><td>Arizona St.  </td><td>4</td><td>Western Collegiate</td><td>NA</td><td>NA</td><td>  NA</td><td>NA</td><td>NA</td><td>23</td><td> 6</td><td>79.3</td><td>at-large</td><td>Y</td><td>1</td><td>1</td><td>top_16_loss     </td><td>24</td><td> 7</td><td>77.4</td></tr>\n",
       "\t<tr><th scope=row>2</th><td>1982</td><td>Auburn       </td><td>7</td><td>Southeastern      </td><td>NA</td><td>NA</td><td>  NA</td><td>NA</td><td>NA</td><td>24</td><td> 4</td><td>85.7</td><td>at-large</td><td>N</td><td>0</td><td>1</td><td>first_round_loss</td><td>24</td><td> 5</td><td>82.8</td></tr>\n",
       "\t<tr><th scope=row>3</th><td>1982</td><td>Cheyney      </td><td>2</td><td>Independent       </td><td>NA</td><td>NA</td><td>  NA</td><td>NA</td><td>NA</td><td>24</td><td> 2</td><td>92.3</td><td>at-large</td><td>Y</td><td>4</td><td>1</td><td>top_2_loss      </td><td>28</td><td> 3</td><td>90.3</td></tr>\n",
       "\t<tr><th scope=row>4</th><td>1982</td><td>Clemson      </td><td>5</td><td>Atlantic Coast    </td><td> 6</td><td> 3</td><td>66.7</td><td> 4</td><td>NA</td><td>20</td><td>11</td><td>64.5</td><td>at-large</td><td>N</td><td>0</td><td>1</td><td>first_round_loss</td><td>20</td><td>12</td><td>62.5</td></tr>\n",
       "\t<tr><th scope=row>5</th><td>1982</td><td>Drake        </td><td>4</td><td>Missouri Valley   </td><td>NA</td><td>NA</td><td>  NA</td><td>NA</td><td>NA</td><td>26</td><td> 6</td><td>81.3</td><td>auto    </td><td>Y</td><td>2</td><td>1</td><td>top_8_loss      </td><td>28</td><td> 7</td><td>80.0</td></tr>\n",
       "\t<tr><th scope=row>6</th><td>1982</td><td>East Carolina</td><td>6</td><td>Independent       </td><td>NA</td><td>NA</td><td>  NA</td><td>NA</td><td>NA</td><td>19</td><td> 7</td><td>73.1</td><td>at-large</td><td>N</td><td>0</td><td>1</td><td>first_round_loss</td><td>19</td><td> 8</td><td>70.4</td></tr>\n",
       "</tbody>\n",
       "</table>\n"
      ],
      "text/latex": [
       "A spec\\_tbl\\_df: 6 × 20\n",
       "\\begin{tabular}{r|llllllllllllllllllll}\n",
       "  & year & school & seed & conference & conf\\_wins & conf\\_losses & conf\\_wins\\_pct & conf\\_rank & division & reg\\_wins & reg\\_losses & reg\\_wins\\_pct & bid & first\\_game\\_at\\_home & tourney\\_wins & tourney\\_losses & tourney\\_finish & total\\_wins & total\\_losses & total\\_wins\\_pct\\\\\n",
       "  & <dbl> & <chr> & <dbl> & <chr> & <dbl> & <dbl> & <dbl> & <dbl> & <chr> & <dbl> & <dbl> & <dbl> & <chr> & <chr> & <dbl> & <dbl> & <chr> & <dbl> & <dbl> & <dbl>\\\\\n",
       "\\hline\n",
       "\t1 & 1982 & Arizona St.   & 4 & Western Collegiate & NA & NA &   NA & NA & NA & 23 &  6 & 79.3 & at-large & Y & 1 & 1 & top\\_16\\_loss      & 24 &  7 & 77.4\\\\\n",
       "\t2 & 1982 & Auburn        & 7 & Southeastern       & NA & NA &   NA & NA & NA & 24 &  4 & 85.7 & at-large & N & 0 & 1 & first\\_round\\_loss & 24 &  5 & 82.8\\\\\n",
       "\t3 & 1982 & Cheyney       & 2 & Independent        & NA & NA &   NA & NA & NA & 24 &  2 & 92.3 & at-large & Y & 4 & 1 & top\\_2\\_loss       & 28 &  3 & 90.3\\\\\n",
       "\t4 & 1982 & Clemson       & 5 & Atlantic Coast     &  6 &  3 & 66.7 &  4 & NA & 20 & 11 & 64.5 & at-large & N & 0 & 1 & first\\_round\\_loss & 20 & 12 & 62.5\\\\\n",
       "\t5 & 1982 & Drake         & 4 & Missouri Valley    & NA & NA &   NA & NA & NA & 26 &  6 & 81.3 & auto     & Y & 2 & 1 & top\\_8\\_loss       & 28 &  7 & 80.0\\\\\n",
       "\t6 & 1982 & East Carolina & 6 & Independent        & NA & NA &   NA & NA & NA & 19 &  7 & 73.1 & at-large & N & 0 & 1 & first\\_round\\_loss & 19 &  8 & 70.4\\\\\n",
       "\\end{tabular}\n"
      ],
      "text/markdown": [
       "\n",
       "A spec_tbl_df: 6 × 20\n",
       "\n",
       "| <!--/--> | year &lt;dbl&gt; | school &lt;chr&gt; | seed &lt;dbl&gt; | conference &lt;chr&gt; | conf_wins &lt;dbl&gt; | conf_losses &lt;dbl&gt; | conf_wins_pct &lt;dbl&gt; | conf_rank &lt;dbl&gt; | division &lt;chr&gt; | reg_wins &lt;dbl&gt; | reg_losses &lt;dbl&gt; | reg_wins_pct &lt;dbl&gt; | bid &lt;chr&gt; | first_game_at_home &lt;chr&gt; | tourney_wins &lt;dbl&gt; | tourney_losses &lt;dbl&gt; | tourney_finish &lt;chr&gt; | total_wins &lt;dbl&gt; | total_losses &lt;dbl&gt; | total_wins_pct &lt;dbl&gt; |\n",
       "|---|---|---|---|---|---|---|---|---|---|---|---|---|---|---|---|---|---|---|---|---|\n",
       "| 1 | 1982 | Arizona St.   | 4 | Western Collegiate | NA | NA |   NA | NA | NA | 23 |  6 | 79.3 | at-large | Y | 1 | 1 | top_16_loss      | 24 |  7 | 77.4 |\n",
       "| 2 | 1982 | Auburn        | 7 | Southeastern       | NA | NA |   NA | NA | NA | 24 |  4 | 85.7 | at-large | N | 0 | 1 | first_round_loss | 24 |  5 | 82.8 |\n",
       "| 3 | 1982 | Cheyney       | 2 | Independent        | NA | NA |   NA | NA | NA | 24 |  2 | 92.3 | at-large | Y | 4 | 1 | top_2_loss       | 28 |  3 | 90.3 |\n",
       "| 4 | 1982 | Clemson       | 5 | Atlantic Coast     |  6 |  3 | 66.7 |  4 | NA | 20 | 11 | 64.5 | at-large | N | 0 | 1 | first_round_loss | 20 | 12 | 62.5 |\n",
       "| 5 | 1982 | Drake         | 4 | Missouri Valley    | NA | NA |   NA | NA | NA | 26 |  6 | 81.3 | auto     | Y | 2 | 1 | top_8_loss       | 28 |  7 | 80.0 |\n",
       "| 6 | 1982 | East Carolina | 6 | Independent        | NA | NA |   NA | NA | NA | 19 |  7 | 73.1 | at-large | N | 0 | 1 | first_round_loss | 19 |  8 | 70.4 |\n",
       "\n"
      ],
      "text/plain": [
       "  year school        seed conference         conf_wins conf_losses\n",
       "1 1982 Arizona St.   4    Western Collegiate NA        NA         \n",
       "2 1982 Auburn        7    Southeastern       NA        NA         \n",
       "3 1982 Cheyney       2    Independent        NA        NA         \n",
       "4 1982 Clemson       5    Atlantic Coast      6         3         \n",
       "5 1982 Drake         4    Missouri Valley    NA        NA         \n",
       "6 1982 East Carolina 6    Independent        NA        NA         \n",
       "  conf_wins_pct conf_rank division reg_wins reg_losses reg_wins_pct bid     \n",
       "1   NA          NA        NA       23        6         79.3         at-large\n",
       "2   NA          NA        NA       24        4         85.7         at-large\n",
       "3   NA          NA        NA       24        2         92.3         at-large\n",
       "4 66.7           4        NA       20       11         64.5         at-large\n",
       "5   NA          NA        NA       26        6         81.3         auto    \n",
       "6   NA          NA        NA       19        7         73.1         at-large\n",
       "  first_game_at_home tourney_wins tourney_losses tourney_finish   total_wins\n",
       "1 Y                  1            1              top_16_loss      24        \n",
       "2 N                  0            1              first_round_loss 24        \n",
       "3 Y                  4            1              top_2_loss       28        \n",
       "4 N                  0            1              first_round_loss 20        \n",
       "5 Y                  2            1              top_8_loss       28        \n",
       "6 N                  0            1              first_round_loss 19        \n",
       "  total_losses total_wins_pct\n",
       "1  7           77.4          \n",
       "2  5           82.8          \n",
       "3  3           90.3          \n",
       "4 12           62.5          \n",
       "5  7           80.0          \n",
       "6  8           70.4          "
      ]
     },
     "metadata": {},
     "output_type": "display_data"
    }
   ],
   "source": [
    "library(diversedata)\n",
    "data(\"womensmarchmadness\")\n",
    "head(womensmarchmadness)"
   ]
  }
 ],
 "metadata": {
  "kernelspec": {
   "display_name": "R",
   "language": "R",
   "name": "ir"
  },
  "language_info": {
   "codemirror_mode": "r",
   "file_extension": ".r",
   "mimetype": "text/x-r-source",
   "name": "R",
   "pygments_lexer": "r",
   "version": "4.5.1"
  }
 },
 "nbformat": 4,
 "nbformat_minor": 5
}

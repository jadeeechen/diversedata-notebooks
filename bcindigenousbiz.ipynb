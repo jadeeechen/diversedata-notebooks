{
 "cells": [
  {
   "cell_type": "code",
   "execution_count": 1,
   "id": "b1e34a6e",
   "metadata": {
    "vscode": {
     "languageId": "r"
    }
   },
   "outputs": [
    {
     "data": {
      "text/html": [
       "<table class=\"dataframe\">\n",
       "<caption>A spec_tbl_df: 6 × 9</caption>\n",
       "<thead>\n",
       "\t<tr><th></th><th scope=col>business_name</th><th scope=col>city</th><th scope=col>latitude</th><th scope=col>longitude</th><th scope=col>region</th><th scope=col>type</th><th scope=col>industry_sector</th><th scope=col>year_formed</th><th scope=col>number_of_employees</th></tr>\n",
       "\t<tr><th></th><th scope=col>&lt;chr&gt;</th><th scope=col>&lt;chr&gt;</th><th scope=col>&lt;dbl&gt;</th><th scope=col>&lt;dbl&gt;</th><th scope=col>&lt;chr&gt;</th><th scope=col>&lt;chr&gt;</th><th scope=col>&lt;chr&gt;</th><th scope=col>&lt;dbl&gt;</th><th scope=col>&lt;chr&gt;</th></tr>\n",
       "</thead>\n",
       "<tbody>\n",
       "\t<tr><th scope=row>1</th><td>Ellipsis Energy Inc                                   </td><td>Moberly Lake</td><td>55.81937</td><td>-121.8346</td><td>Northeast                 </td><td>Private Company        </td><td>Mining, quarrying, and oil and gas extraction</td><td>2012</td><td>5 to 9  </td></tr>\n",
       "\t<tr><th scope=row>2</th><td>Indigenous Community Development &amp; Prosperity (ICDPRO)</td><td><span style=white-space:pre-wrap>Enderby     </span></td><td>50.55150</td><td>-119.1335</td><td><span style=white-space:pre-wrap>Thompson / Okanagan       </span></td><td><span style=white-space:pre-wrap>Private Company        </span></td><td>Other services (except public administration)</td><td>2020</td><td><span style=white-space:pre-wrap>1 to 4  </span></td></tr>\n",
       "\t<tr><th scope=row>3</th><td>Formline Construction Ltd.                            </td><td>Burnaby     </td><td>49.26605</td><td> 123.0058</td><td>Lower Mainland / Southwest</td><td>Private Company        </td><td>Construction                                 </td><td>2021</td><td>1 to 4  </td></tr>\n",
       "\t<tr><th scope=row>4</th><td>Quilakwa Investments Ltd.                             </td><td>Enderby     </td><td>50.53751</td><td>-119.1420</td><td>Thompson / Okanagan       </td><td>Community Owned Company</td><td>Accommodation and food services              </td><td>1984</td><td>20 to 49</td></tr>\n",
       "\t<tr><th scope=row>5</th><td>Quilakwa Esso                                         </td><td>Enderby     </td><td>50.53751</td><td>-119.1420</td><td>Thompson / Okanagan       </td><td>Community Owned Company</td><td>Retail trade                                 </td><td>1984</td><td>10 to 19</td></tr>\n",
       "\t<tr><th scope=row>6</th><td>Quilakwa RV Park                                      </td><td>Enderby     </td><td>50.55150</td><td>-119.1335</td><td>Thompson / Okanagan       </td><td>NA                     </td><td>Accommodation and food services              </td><td>1984</td><td>1 to 4  </td></tr>\n",
       "</tbody>\n",
       "</table>\n"
      ],
      "text/latex": [
       "A spec\\_tbl\\_df: 6 × 9\n",
       "\\begin{tabular}{r|lllllllll}\n",
       "  & business\\_name & city & latitude & longitude & region & type & industry\\_sector & year\\_formed & number\\_of\\_employees\\\\\n",
       "  & <chr> & <chr> & <dbl> & <dbl> & <chr> & <chr> & <chr> & <dbl> & <chr>\\\\\n",
       "\\hline\n",
       "\t1 & Ellipsis Energy Inc                                    & Moberly Lake & 55.81937 & -121.8346 & Northeast                  & Private Company         & Mining, quarrying, and oil and gas extraction & 2012 & 5 to 9  \\\\\n",
       "\t2 & Indigenous Community Development \\& Prosperity (ICDPRO) & Enderby      & 50.55150 & -119.1335 & Thompson / Okanagan        & Private Company         & Other services (except public administration) & 2020 & 1 to 4  \\\\\n",
       "\t3 & Formline Construction Ltd.                             & Burnaby      & 49.26605 &  123.0058 & Lower Mainland / Southwest & Private Company         & Construction                                  & 2021 & 1 to 4  \\\\\n",
       "\t4 & Quilakwa Investments Ltd.                              & Enderby      & 50.53751 & -119.1420 & Thompson / Okanagan        & Community Owned Company & Accommodation and food services               & 1984 & 20 to 49\\\\\n",
       "\t5 & Quilakwa Esso                                          & Enderby      & 50.53751 & -119.1420 & Thompson / Okanagan        & Community Owned Company & Retail trade                                  & 1984 & 10 to 19\\\\\n",
       "\t6 & Quilakwa RV Park                                       & Enderby      & 50.55150 & -119.1335 & Thompson / Okanagan        & NA                      & Accommodation and food services               & 1984 & 1 to 4  \\\\\n",
       "\\end{tabular}\n"
      ],
      "text/markdown": [
       "\n",
       "A spec_tbl_df: 6 × 9\n",
       "\n",
       "| <!--/--> | business_name &lt;chr&gt; | city &lt;chr&gt; | latitude &lt;dbl&gt; | longitude &lt;dbl&gt; | region &lt;chr&gt; | type &lt;chr&gt; | industry_sector &lt;chr&gt; | year_formed &lt;dbl&gt; | number_of_employees &lt;chr&gt; |\n",
       "|---|---|---|---|---|---|---|---|---|---|\n",
       "| 1 | Ellipsis Energy Inc                                    | Moberly Lake | 55.81937 | -121.8346 | Northeast                  | Private Company         | Mining, quarrying, and oil and gas extraction | 2012 | 5 to 9   |\n",
       "| 2 | Indigenous Community Development &amp; Prosperity (ICDPRO) | Enderby      | 50.55150 | -119.1335 | Thompson / Okanagan        | Private Company         | Other services (except public administration) | 2020 | 1 to 4   |\n",
       "| 3 | Formline Construction Ltd.                             | Burnaby      | 49.26605 |  123.0058 | Lower Mainland / Southwest | Private Company         | Construction                                  | 2021 | 1 to 4   |\n",
       "| 4 | Quilakwa Investments Ltd.                              | Enderby      | 50.53751 | -119.1420 | Thompson / Okanagan        | Community Owned Company | Accommodation and food services               | 1984 | 20 to 49 |\n",
       "| 5 | Quilakwa Esso                                          | Enderby      | 50.53751 | -119.1420 | Thompson / Okanagan        | Community Owned Company | Retail trade                                  | 1984 | 10 to 19 |\n",
       "| 6 | Quilakwa RV Park                                       | Enderby      | 50.55150 | -119.1335 | Thompson / Okanagan        | NA                      | Accommodation and food services               | 1984 | 1 to 4   |\n",
       "\n"
      ],
      "text/plain": [
       "  business_name                                          city         latitude\n",
       "1 Ellipsis Energy Inc                                    Moberly Lake 55.81937\n",
       "2 Indigenous Community Development & Prosperity (ICDPRO) Enderby      50.55150\n",
       "3 Formline Construction Ltd.                             Burnaby      49.26605\n",
       "4 Quilakwa Investments Ltd.                              Enderby      50.53751\n",
       "5 Quilakwa Esso                                          Enderby      50.53751\n",
       "6 Quilakwa RV Park                                       Enderby      50.55150\n",
       "  longitude region                     type                   \n",
       "1 -121.8346 Northeast                  Private Company        \n",
       "2 -119.1335 Thompson / Okanagan        Private Company        \n",
       "3  123.0058 Lower Mainland / Southwest Private Company        \n",
       "4 -119.1420 Thompson / Okanagan        Community Owned Company\n",
       "5 -119.1420 Thompson / Okanagan        Community Owned Company\n",
       "6 -119.1335 Thompson / Okanagan        NA                     \n",
       "  industry_sector                               year_formed number_of_employees\n",
       "1 Mining, quarrying, and oil and gas extraction 2012        5 to 9             \n",
       "2 Other services (except public administration) 2020        1 to 4             \n",
       "3 Construction                                  2021        1 to 4             \n",
       "4 Accommodation and food services               1984        20 to 49           \n",
       "5 Retail trade                                  1984        10 to 19           \n",
       "6 Accommodation and food services               1984        1 to 4             "
      ]
     },
     "metadata": {},
     "output_type": "display_data"
    }
   ],
   "source": [
    "library(diversedata)\n",
    "data(\"bcindigenousbiz\")\n",
    "head(bcindigenousbiz)"
   ]
  }
 ],
 "metadata": {
  "kernelspec": {
   "display_name": "R",
   "language": "R",
   "name": "ir"
  },
  "language_info": {
   "codemirror_mode": "r",
   "file_extension": ".r",
   "mimetype": "text/x-r-source",
   "name": "R",
   "pygments_lexer": "r",
   "version": "4.5.1"
  }
 },
 "nbformat": 4,
 "nbformat_minor": 5
}

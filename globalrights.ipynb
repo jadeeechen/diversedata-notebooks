{
 "cells": [
  {
   "cell_type": "code",
   "execution_count": 1,
   "id": "b1e34a6e",
   "metadata": {
    "vscode": {
     "languageId": "r"
    }
   },
   "outputs": [
    {
     "data": {
      "text/html": [
       "<table class=\"dataframe\">\n",
       "<caption>A spec_tbl_df: 6 × 10</caption>\n",
       "<thead>\n",
       "\t<tr><th></th><th scope=col>year</th><th scope=col>country</th><th scope=col>country-code</th><th scope=col>gdp-per-capita</th><th scope=col>education-spending-gdp</th><th scope=col>same-sex-marriage</th><th scope=col>lgbtq-censorship</th><th scope=col>employment-discrimination</th><th scope=col>gender-affirming-care</th><th scope=col>legal-gender</th></tr>\n",
       "\t<tr><th></th><th scope=col>&lt;dbl&gt;</th><th scope=col>&lt;chr&gt;</th><th scope=col>&lt;chr&gt;</th><th scope=col>&lt;dbl&gt;</th><th scope=col>&lt;dbl&gt;</th><th scope=col>&lt;chr&gt;</th><th scope=col>&lt;chr&gt;</th><th scope=col>&lt;chr&gt;</th><th scope=col>&lt;chr&gt;</th><th scope=col>&lt;chr&gt;</th></tr>\n",
       "</thead>\n",
       "<tbody>\n",
       "\t<tr><th scope=row>1</th><td>2001</td><td>Algeria  </td><td>DZA</td><td>11742.60</td><td>  NA</td><td>Banned</td><td>Imprisonment as punishment</td><td>NA</td><td>NA                              </td><td>NA                     </td></tr>\n",
       "\t<tr><th scope=row>2</th><td>2001</td><td>Andorra  </td><td>AND</td><td>59109.02</td><td>  NA</td><td>NA    </td><td>NA                        </td><td>NA</td><td>Restricted                      </td><td>NA                     </td></tr>\n",
       "\t<tr><th scope=row>3</th><td>2001</td><td>Argentina</td><td>ARG</td><td>21066.46</td><td>4.83</td><td>NA    </td><td>NA                        </td><td>NA</td><td>NA                              </td><td>NA                     </td></tr>\n",
       "\t<tr><th scope=row>4</th><td>2001</td><td>Armenia  </td><td>ARM</td><td> 5044.12</td><td>2.47</td><td>NA    </td><td>NA                        </td><td>NA</td><td>Legal, but restricted for minors</td><td>Legal, surgery required</td></tr>\n",
       "\t<tr><th scope=row>5</th><td>2001</td><td>Australia</td><td>AUS</td><td>44667.93</td><td>5.22</td><td>NA    </td><td>Varies by region          </td><td>NA</td><td>Legal                           </td><td>Varies by region       </td></tr>\n",
       "\t<tr><th scope=row>6</th><td>2001</td><td>Austria  </td><td>AUT</td><td>54619.77</td><td>5.58</td><td>NA    </td><td>No censorship             </td><td>NA</td><td>Legal                           </td><td>Legal, surgery required</td></tr>\n",
       "</tbody>\n",
       "</table>\n"
      ],
      "text/latex": [
       "A spec\\_tbl\\_df: 6 × 10\n",
       "\\begin{tabular}{r|llllllllll}\n",
       "  & year & country & country-code & gdp-per-capita & education-spending-gdp & same-sex-marriage & lgbtq-censorship & employment-discrimination & gender-affirming-care & legal-gender\\\\\n",
       "  & <dbl> & <chr> & <chr> & <dbl> & <dbl> & <chr> & <chr> & <chr> & <chr> & <chr>\\\\\n",
       "\\hline\n",
       "\t1 & 2001 & Algeria   & DZA & 11742.60 &   NA & Banned & Imprisonment as punishment & NA & NA                               & NA                     \\\\\n",
       "\t2 & 2001 & Andorra   & AND & 59109.02 &   NA & NA     & NA                         & NA & Restricted                       & NA                     \\\\\n",
       "\t3 & 2001 & Argentina & ARG & 21066.46 & 4.83 & NA     & NA                         & NA & NA                               & NA                     \\\\\n",
       "\t4 & 2001 & Armenia   & ARM &  5044.12 & 2.47 & NA     & NA                         & NA & Legal, but restricted for minors & Legal, surgery required\\\\\n",
       "\t5 & 2001 & Australia & AUS & 44667.93 & 5.22 & NA     & Varies by region           & NA & Legal                            & Varies by region       \\\\\n",
       "\t6 & 2001 & Austria   & AUT & 54619.77 & 5.58 & NA     & No censorship              & NA & Legal                            & Legal, surgery required\\\\\n",
       "\\end{tabular}\n"
      ],
      "text/markdown": [
       "\n",
       "A spec_tbl_df: 6 × 10\n",
       "\n",
       "| <!--/--> | year &lt;dbl&gt; | country &lt;chr&gt; | country-code &lt;chr&gt; | gdp-per-capita &lt;dbl&gt; | education-spending-gdp &lt;dbl&gt; | same-sex-marriage &lt;chr&gt; | lgbtq-censorship &lt;chr&gt; | employment-discrimination &lt;chr&gt; | gender-affirming-care &lt;chr&gt; | legal-gender &lt;chr&gt; |\n",
       "|---|---|---|---|---|---|---|---|---|---|---|\n",
       "| 1 | 2001 | Algeria   | DZA | 11742.60 |   NA | Banned | Imprisonment as punishment | NA | NA                               | NA                      |\n",
       "| 2 | 2001 | Andorra   | AND | 59109.02 |   NA | NA     | NA                         | NA | Restricted                       | NA                      |\n",
       "| 3 | 2001 | Argentina | ARG | 21066.46 | 4.83 | NA     | NA                         | NA | NA                               | NA                      |\n",
       "| 4 | 2001 | Armenia   | ARM |  5044.12 | 2.47 | NA     | NA                         | NA | Legal, but restricted for minors | Legal, surgery required |\n",
       "| 5 | 2001 | Australia | AUS | 44667.93 | 5.22 | NA     | Varies by region           | NA | Legal                            | Varies by region        |\n",
       "| 6 | 2001 | Austria   | AUT | 54619.77 | 5.58 | NA     | No censorship              | NA | Legal                            | Legal, surgery required |\n",
       "\n"
      ],
      "text/plain": [
       "  year country   country-code gdp-per-capita education-spending-gdp\n",
       "1 2001 Algeria   DZA          11742.60         NA                  \n",
       "2 2001 Andorra   AND          59109.02         NA                  \n",
       "3 2001 Argentina ARG          21066.46       4.83                  \n",
       "4 2001 Armenia   ARM           5044.12       2.47                  \n",
       "5 2001 Australia AUS          44667.93       5.22                  \n",
       "6 2001 Austria   AUT          54619.77       5.58                  \n",
       "  same-sex-marriage lgbtq-censorship           employment-discrimination\n",
       "1 Banned            Imprisonment as punishment NA                       \n",
       "2 NA                NA                         NA                       \n",
       "3 NA                NA                         NA                       \n",
       "4 NA                NA                         NA                       \n",
       "5 NA                Varies by region           NA                       \n",
       "6 NA                No censorship              NA                       \n",
       "  gender-affirming-care            legal-gender           \n",
       "1 NA                               NA                     \n",
       "2 Restricted                       NA                     \n",
       "3 NA                               NA                     \n",
       "4 Legal, but restricted for minors Legal, surgery required\n",
       "5 Legal                            Varies by region       \n",
       "6 Legal                            Legal, surgery required"
      ]
     },
     "metadata": {},
     "output_type": "display_data"
    }
   ],
   "source": [
    "library(diversedata)\n",
    "data(\"globalrights\")\n",
    "head(globalrights)"
   ]
  }
 ],
 "metadata": {
  "kernelspec": {
   "display_name": "R",
   "language": "R",
   "name": "ir"
  },
  "language_info": {
   "codemirror_mode": "r",
   "file_extension": ".r",
   "mimetype": "text/x-r-source",
   "name": "R",
   "pygments_lexer": "r",
   "version": "4.5.1"
  }
 },
 "nbformat": 4,
 "nbformat_minor": 5
}

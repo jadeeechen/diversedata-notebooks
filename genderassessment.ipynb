{
 "cells": [
  {
   "cell_type": "code",
   "execution_count": 1,
   "id": "b1e34a6e",
   "metadata": {
    "vscode": {
     "languageId": "r"
    }
   },
   "outputs": [
    {
     "data": {
      "text/html": [
       "<table class=\"dataframe\">\n",
       "<caption>A spec_tbl_df: 6 × 29</caption>\n",
       "<thead>\n",
       "\t<tr><th></th><th scope=col>company</th><th scope=col>country</th><th scope=col>region</th><th scope=col>industry</th><th scope=col>ownership</th><th scope=col>year</th><th scope=col>score</th><th scope=col>percent_score</th><th scope=col>strategic_action</th><th scope=col>gender_targets</th><th scope=col>⋯</th><th scope=col>gender_procurement</th><th scope=col>gender_pay_gap</th><th scope=col>carer_leave_paid</th><th scope=col>childcare_support</th><th scope=col>flex_work</th><th scope=col>living_wage_supply_chain</th><th scope=col>health_safety</th><th scope=col>health_safety_supply_chain</th><th scope=col>violence_prevention</th><th scope=col>violence_remediation</th></tr>\n",
       "\t<tr><th></th><th scope=col>&lt;chr&gt;</th><th scope=col>&lt;chr&gt;</th><th scope=col>&lt;chr&gt;</th><th scope=col>&lt;chr&gt;</th><th scope=col>&lt;chr&gt;</th><th scope=col>&lt;dbl&gt;</th><th scope=col>&lt;dbl&gt;</th><th scope=col>&lt;dbl&gt;</th><th scope=col>&lt;dbl&gt;</th><th scope=col>&lt;dbl&gt;</th><th scope=col>⋯</th><th scope=col>&lt;dbl&gt;</th><th scope=col>&lt;dbl&gt;</th><th scope=col>&lt;dbl&gt;</th><th scope=col>&lt;dbl&gt;</th><th scope=col>&lt;dbl&gt;</th><th scope=col>&lt;dbl&gt;</th><th scope=col>&lt;dbl&gt;</th><th scope=col>&lt;dbl&gt;</th><th scope=col>&lt;dbl&gt;</th><th scope=col>&lt;dbl&gt;</th></tr>\n",
       "</thead>\n",
       "<tbody>\n",
       "\t<tr><th scope=row>1</th><td>3M                  </td><td>United States </td><td>North America        </td><td>Chemicals                      </td><td>Public</td><td>2023</td><td>11.3</td><td>22</td><td>1</td><td>0</td><td>⋯</td><td>1</td><td>0</td><td>0</td><td>0</td><td>2</td><td>0</td><td>1.0</td><td>2</td><td>1.0</td><td>0</td></tr>\n",
       "\t<tr><th scope=row>2</th><td><span style=white-space:pre-wrap>Asos                </span></td><td>United Kingdom</td><td>Europe &amp; Central Asia</td><td><span style=white-space:pre-wrap>Apparel &amp; Footwear             </span></td><td>Public</td><td>2023</td><td>16.9</td><td>32</td><td>1</td><td>0</td><td>⋯</td><td>0</td><td>0</td><td>0</td><td>1</td><td>1</td><td>2</td><td>0.5</td><td>2</td><td>0.5</td><td>0</td></tr>\n",
       "\t<tr><th scope=row>3</th><td>A.P. Moller - Maersk</td><td><span style=white-space:pre-wrap>Denmark       </span></td><td>Europe &amp; Central Asia</td><td><span style=white-space:pre-wrap>Freight &amp; logistics            </span></td><td>Public</td><td>2024</td><td>10.9</td><td>21</td><td>1</td><td>1</td><td>⋯</td><td>0</td><td>0</td><td>0</td><td>0</td><td>0</td><td>0</td><td>1.0</td><td>2</td><td>1.0</td><td>0</td></tr>\n",
       "\t<tr><th scope=row>4</th><td><span style=white-space:pre-wrap>ABB                 </span></td><td><span style=white-space:pre-wrap>Switzerland   </span></td><td>Europe &amp; Central Asia</td><td><span style=white-space:pre-wrap>Capital Goods                  </span></td><td>Public</td><td>2023</td><td>12.8</td><td>25</td><td>1</td><td>1</td><td>⋯</td><td>0</td><td>0</td><td>1</td><td>0</td><td>0</td><td>0</td><td>1.0</td><td>2</td><td>1.0</td><td>0</td></tr>\n",
       "\t<tr><th scope=row>5</th><td><span style=white-space:pre-wrap>AbbVie              </span></td><td>United States </td><td><span style=white-space:pre-wrap>North America        </span></td><td>Pharmaceuticals &amp; Biotechnology</td><td>Public</td><td>2023</td><td>15.4</td><td>30</td><td>1</td><td>0</td><td>⋯</td><td>1</td><td>0</td><td>0</td><td>2</td><td>1</td><td>0</td><td>1.0</td><td>2</td><td>1.0</td><td>0</td></tr>\n",
       "\t<tr><th scope=row>6</th><td>Abercrombie &amp; Fitch </td><td>United States </td><td><span style=white-space:pre-wrap>North America        </span></td><td><span style=white-space:pre-wrap>Apparel &amp; Footwear             </span></td><td>Public</td><td>2023</td><td>10.0</td><td>19</td><td>0</td><td>1</td><td>⋯</td><td>0</td><td>0</td><td>0</td><td>0</td><td>1</td><td>0</td><td>1.0</td><td>2</td><td>1.0</td><td>0</td></tr>\n",
       "</tbody>\n",
       "</table>\n"
      ],
      "text/latex": [
       "A spec\\_tbl\\_df: 6 × 29\n",
       "\\begin{tabular}{r|lllllllllllllllllllll}\n",
       "  & company & country & region & industry & ownership & year & score & percent\\_score & strategic\\_action & gender\\_targets & ⋯ & gender\\_procurement & gender\\_pay\\_gap & carer\\_leave\\_paid & childcare\\_support & flex\\_work & living\\_wage\\_supply\\_chain & health\\_safety & health\\_safety\\_supply\\_chain & violence\\_prevention & violence\\_remediation\\\\\n",
       "  & <chr> & <chr> & <chr> & <chr> & <chr> & <dbl> & <dbl> & <dbl> & <dbl> & <dbl> & ⋯ & <dbl> & <dbl> & <dbl> & <dbl> & <dbl> & <dbl> & <dbl> & <dbl> & <dbl> & <dbl>\\\\\n",
       "\\hline\n",
       "\t1 & 3M                   & United States  & North America         & Chemicals                       & Public & 2023 & 11.3 & 22 & 1 & 0 & ⋯ & 1 & 0 & 0 & 0 & 2 & 0 & 1.0 & 2 & 1.0 & 0\\\\\n",
       "\t2 & Asos                 & United Kingdom & Europe \\& Central Asia & Apparel \\& Footwear              & Public & 2023 & 16.9 & 32 & 1 & 0 & ⋯ & 0 & 0 & 0 & 1 & 1 & 2 & 0.5 & 2 & 0.5 & 0\\\\\n",
       "\t3 & A.P. Moller - Maersk & Denmark        & Europe \\& Central Asia & Freight \\& logistics             & Public & 2024 & 10.9 & 21 & 1 & 1 & ⋯ & 0 & 0 & 0 & 0 & 0 & 0 & 1.0 & 2 & 1.0 & 0\\\\\n",
       "\t4 & ABB                  & Switzerland    & Europe \\& Central Asia & Capital Goods                   & Public & 2023 & 12.8 & 25 & 1 & 1 & ⋯ & 0 & 0 & 1 & 0 & 0 & 0 & 1.0 & 2 & 1.0 & 0\\\\\n",
       "\t5 & AbbVie               & United States  & North America         & Pharmaceuticals \\& Biotechnology & Public & 2023 & 15.4 & 30 & 1 & 0 & ⋯ & 1 & 0 & 0 & 2 & 1 & 0 & 1.0 & 2 & 1.0 & 0\\\\\n",
       "\t6 & Abercrombie \\& Fitch  & United States  & North America         & Apparel \\& Footwear              & Public & 2023 & 10.0 & 19 & 0 & 1 & ⋯ & 0 & 0 & 0 & 0 & 1 & 0 & 1.0 & 2 & 1.0 & 0\\\\\n",
       "\\end{tabular}\n"
      ],
      "text/markdown": [
       "\n",
       "A spec_tbl_df: 6 × 29\n",
       "\n",
       "| <!--/--> | company &lt;chr&gt; | country &lt;chr&gt; | region &lt;chr&gt; | industry &lt;chr&gt; | ownership &lt;chr&gt; | year &lt;dbl&gt; | score &lt;dbl&gt; | percent_score &lt;dbl&gt; | strategic_action &lt;dbl&gt; | gender_targets &lt;dbl&gt; | ⋯ ⋯ | gender_procurement &lt;dbl&gt; | gender_pay_gap &lt;dbl&gt; | carer_leave_paid &lt;dbl&gt; | childcare_support &lt;dbl&gt; | flex_work &lt;dbl&gt; | living_wage_supply_chain &lt;dbl&gt; | health_safety &lt;dbl&gt; | health_safety_supply_chain &lt;dbl&gt; | violence_prevention &lt;dbl&gt; | violence_remediation &lt;dbl&gt; |\n",
       "|---|---|---|---|---|---|---|---|---|---|---|---|---|---|---|---|---|---|---|---|---|---|\n",
       "| 1 | 3M                   | United States  | North America         | Chemicals                       | Public | 2023 | 11.3 | 22 | 1 | 0 | ⋯ | 1 | 0 | 0 | 0 | 2 | 0 | 1.0 | 2 | 1.0 | 0 |\n",
       "| 2 | Asos                 | United Kingdom | Europe &amp; Central Asia | Apparel &amp; Footwear              | Public | 2023 | 16.9 | 32 | 1 | 0 | ⋯ | 0 | 0 | 0 | 1 | 1 | 2 | 0.5 | 2 | 0.5 | 0 |\n",
       "| 3 | A.P. Moller - Maersk | Denmark        | Europe &amp; Central Asia | Freight &amp; logistics             | Public | 2024 | 10.9 | 21 | 1 | 1 | ⋯ | 0 | 0 | 0 | 0 | 0 | 0 | 1.0 | 2 | 1.0 | 0 |\n",
       "| 4 | ABB                  | Switzerland    | Europe &amp; Central Asia | Capital Goods                   | Public | 2023 | 12.8 | 25 | 1 | 1 | ⋯ | 0 | 0 | 1 | 0 | 0 | 0 | 1.0 | 2 | 1.0 | 0 |\n",
       "| 5 | AbbVie               | United States  | North America         | Pharmaceuticals &amp; Biotechnology | Public | 2023 | 15.4 | 30 | 1 | 0 | ⋯ | 1 | 0 | 0 | 2 | 1 | 0 | 1.0 | 2 | 1.0 | 0 |\n",
       "| 6 | Abercrombie &amp; Fitch  | United States  | North America         | Apparel &amp; Footwear              | Public | 2023 | 10.0 | 19 | 0 | 1 | ⋯ | 0 | 0 | 0 | 0 | 1 | 0 | 1.0 | 2 | 1.0 | 0 |\n",
       "\n"
      ],
      "text/plain": [
       "  company              country        region               \n",
       "1 3M                   United States  North America        \n",
       "2 Asos                 United Kingdom Europe & Central Asia\n",
       "3 A.P. Moller - Maersk Denmark        Europe & Central Asia\n",
       "4 ABB                  Switzerland    Europe & Central Asia\n",
       "5 AbbVie               United States  North America        \n",
       "6 Abercrombie & Fitch  United States  North America        \n",
       "  industry                        ownership year score percent_score\n",
       "1 Chemicals                       Public    2023 11.3  22           \n",
       "2 Apparel & Footwear              Public    2023 16.9  32           \n",
       "3 Freight & logistics             Public    2024 10.9  21           \n",
       "4 Capital Goods                   Public    2023 12.8  25           \n",
       "5 Pharmaceuticals & Biotechnology Public    2023 15.4  30           \n",
       "6 Apparel & Footwear              Public    2023 10.0  19           \n",
       "  strategic_action gender_targets ⋯ gender_procurement gender_pay_gap\n",
       "1 1                0              ⋯ 1                  0             \n",
       "2 1                0              ⋯ 0                  0             \n",
       "3 1                1              ⋯ 0                  0             \n",
       "4 1                1              ⋯ 0                  0             \n",
       "5 1                0              ⋯ 1                  0             \n",
       "6 0                1              ⋯ 0                  0             \n",
       "  carer_leave_paid childcare_support flex_work living_wage_supply_chain\n",
       "1 0                0                 2         0                       \n",
       "2 0                1                 1         2                       \n",
       "3 0                0                 0         0                       \n",
       "4 1                0                 0         0                       \n",
       "5 0                2                 1         0                       \n",
       "6 0                0                 1         0                       \n",
       "  health_safety health_safety_supply_chain violence_prevention\n",
       "1 1.0           2                          1.0                \n",
       "2 0.5           2                          0.5                \n",
       "3 1.0           2                          1.0                \n",
       "4 1.0           2                          1.0                \n",
       "5 1.0           2                          1.0                \n",
       "6 1.0           2                          1.0                \n",
       "  violence_remediation\n",
       "1 0                   \n",
       "2 0                   \n",
       "3 0                   \n",
       "4 0                   \n",
       "5 0                   \n",
       "6 0                   "
      ]
     },
     "metadata": {},
     "output_type": "display_data"
    }
   ],
   "source": [
    "library(diversedata)\n",
    "data(\"genderassessment\")\n",
    "head(genderassessment)"
   ]
  }
 ],
 "metadata": {
  "kernelspec": {
   "display_name": "R",
   "language": "R",
   "name": "ir"
  },
  "language_info": {
   "codemirror_mode": "r",
   "file_extension": ".r",
   "mimetype": "text/x-r-source",
   "name": "R",
   "pygments_lexer": "r",
   "version": "4.5.1"
  }
 },
 "nbformat": 4,
 "nbformat_minor": 5
}
